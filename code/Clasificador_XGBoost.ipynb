{
 "cells": [
  {
   "cell_type": "markdown",
   "metadata": {},
   "source": [
    "![banner](https://github.com/paulguz261/MIAD_20242_proyecto_despliegue_aplicaciones/blob/main/docs/images/despliegue.png)"
   ]
  },
  {
   "cell_type": "markdown",
   "metadata": {},
   "source": [
    "# Importación de librerías  "
   ]
  },
  {
   "cell_type": "code",
   "execution_count": 27,
   "metadata": {},
   "outputs": [],
   "source": [
    "import pandas as pd\n",
    "import numpy as np\n",
    "from IPython.display import Image\n",
    "from sklearn.preprocessing import LabelEncoder\n",
    "from sklearn.preprocessing import StandardScaler\n",
    "from sklearn.decomposition import PCA\n",
    "from sklearn.model_selection import train_test_split\n",
    "from xgboost import XGBClassifier\n",
    "from sklearn import metrics\n",
    "import optuna\n",
    "\n",
    "import warnings\n",
    "warnings.filterwarnings('ignore')"
   ]
  },
  {
   "cell_type": "markdown",
   "metadata": {},
   "source": [
    "# Cargar datos"
   ]
  },
  {
   "cell_type": "code",
   "execution_count": 2,
   "metadata": {},
   "outputs": [
    {
     "data": {
      "text/html": [
       "<div>\n",
       "<style scoped>\n",
       "    .dataframe tbody tr th:only-of-type {\n",
       "        vertical-align: middle;\n",
       "    }\n",
       "\n",
       "    .dataframe tbody tr th {\n",
       "        vertical-align: top;\n",
       "    }\n",
       "\n",
       "    .dataframe thead th {\n",
       "        text-align: right;\n",
       "    }\n",
       "</style>\n",
       "<table border=\"1\" class=\"dataframe\">\n",
       "  <thead>\n",
       "    <tr style=\"text-align: right;\">\n",
       "      <th></th>\n",
       "      <th>gender</th>\n",
       "      <th>age</th>\n",
       "      <th>hypertension</th>\n",
       "      <th>heart_disease</th>\n",
       "      <th>ever_married</th>\n",
       "      <th>work_type</th>\n",
       "      <th>Residence_type</th>\n",
       "      <th>avg_glucose_level</th>\n",
       "      <th>bmi</th>\n",
       "      <th>smoking_status</th>\n",
       "      <th>stroke</th>\n",
       "    </tr>\n",
       "  </thead>\n",
       "  <tbody>\n",
       "    <tr>\n",
       "      <th>0</th>\n",
       "      <td>Male</td>\n",
       "      <td>67.0</td>\n",
       "      <td>0</td>\n",
       "      <td>1</td>\n",
       "      <td>Yes</td>\n",
       "      <td>Private</td>\n",
       "      <td>Urban</td>\n",
       "      <td>228.69</td>\n",
       "      <td>36.600000</td>\n",
       "      <td>formerly smoked</td>\n",
       "      <td>1</td>\n",
       "    </tr>\n",
       "    <tr>\n",
       "      <th>1</th>\n",
       "      <td>Female</td>\n",
       "      <td>61.0</td>\n",
       "      <td>0</td>\n",
       "      <td>0</td>\n",
       "      <td>Yes</td>\n",
       "      <td>Self-employed</td>\n",
       "      <td>Rural</td>\n",
       "      <td>202.21</td>\n",
       "      <td>28.893237</td>\n",
       "      <td>never smoked</td>\n",
       "      <td>1</td>\n",
       "    </tr>\n",
       "    <tr>\n",
       "      <th>2</th>\n",
       "      <td>Male</td>\n",
       "      <td>80.0</td>\n",
       "      <td>0</td>\n",
       "      <td>1</td>\n",
       "      <td>Yes</td>\n",
       "      <td>Private</td>\n",
       "      <td>Rural</td>\n",
       "      <td>105.92</td>\n",
       "      <td>32.500000</td>\n",
       "      <td>never smoked</td>\n",
       "      <td>1</td>\n",
       "    </tr>\n",
       "    <tr>\n",
       "      <th>3</th>\n",
       "      <td>Female</td>\n",
       "      <td>49.0</td>\n",
       "      <td>0</td>\n",
       "      <td>0</td>\n",
       "      <td>Yes</td>\n",
       "      <td>Private</td>\n",
       "      <td>Urban</td>\n",
       "      <td>171.23</td>\n",
       "      <td>34.400000</td>\n",
       "      <td>smokes</td>\n",
       "      <td>1</td>\n",
       "    </tr>\n",
       "    <tr>\n",
       "      <th>4</th>\n",
       "      <td>Female</td>\n",
       "      <td>79.0</td>\n",
       "      <td>1</td>\n",
       "      <td>0</td>\n",
       "      <td>Yes</td>\n",
       "      <td>Self-employed</td>\n",
       "      <td>Rural</td>\n",
       "      <td>174.12</td>\n",
       "      <td>24.000000</td>\n",
       "      <td>never smoked</td>\n",
       "      <td>1</td>\n",
       "    </tr>\n",
       "  </tbody>\n",
       "</table>\n",
       "</div>"
      ],
      "text/plain": [
       "   gender   age  hypertension  heart_disease ever_married      work_type  \\\n",
       "0    Male  67.0             0              1          Yes        Private   \n",
       "1  Female  61.0             0              0          Yes  Self-employed   \n",
       "2    Male  80.0             0              1          Yes        Private   \n",
       "3  Female  49.0             0              0          Yes        Private   \n",
       "4  Female  79.0             1              0          Yes  Self-employed   \n",
       "\n",
       "  Residence_type  avg_glucose_level        bmi   smoking_status  stroke  \n",
       "0          Urban             228.69  36.600000  formerly smoked       1  \n",
       "1          Rural             202.21  28.893237     never smoked       1  \n",
       "2          Rural             105.92  32.500000     never smoked       1  \n",
       "3          Urban             171.23  34.400000           smokes       1  \n",
       "4          Rural             174.12  24.000000     never smoked       1  "
      ]
     },
     "execution_count": 2,
     "metadata": {},
     "output_type": "execute_result"
    }
   ],
   "source": [
    "data = pd.read_csv(\"../data/clean/personas_limpio.csv\")\n",
    "data.head()"
   ]
  },
  {
   "cell_type": "code",
   "execution_count": 3,
   "metadata": {},
   "outputs": [],
   "source": [
    "# Dado que las variables binarias quedaron como númericas, se procede a convertirlas de nuevo\n",
    "def convert_to_categorical(df, columns):\n",
    "    \"\"\"\n",
    "    Convierte las columnas especificadas de un DataFrame a tipo categórico.\n",
    "\n",
    "    Parámetros:\n",
    "    df (pd.DataFrame): El DataFrame en el que se realizarán las conversiones.\n",
    "    columns (list): Lista de nombres de columnas a convertir a tipo categórico.\n",
    "\n",
    "    Retorna:\n",
    "    pd.DataFrame: El DataFrame con las columnas especificadas convertidas a tipo categórico.\n",
    "    \"\"\"\n",
    "    for column in columns:\n",
    "        if column in df.columns:\n",
    "            df[column] = pd.Categorical(df[column])\n",
    "        else:\n",
    "            print(f\"Columna '{column}' no encontrada en el DataFrame.\")\n",
    "    return df\n",
    "\n",
    "categorical_columns = ['hypertension', 'heart_disease','stroke']\n",
    "data = convert_to_categorical(data, categorical_columns)"
   ]
  },
  {
   "cell_type": "code",
   "execution_count": 4,
   "metadata": {},
   "outputs": [
    {
     "name": "stdout",
     "output_type": "stream",
     "text": [
      "<class 'pandas.core.frame.DataFrame'>\n",
      "RangeIndex: 5110 entries, 0 to 5109\n",
      "Data columns (total 11 columns):\n",
      " #   Column             Non-Null Count  Dtype   \n",
      "---  ------             --------------  -----   \n",
      " 0   gender             5110 non-null   object  \n",
      " 1   age                5110 non-null   float64 \n",
      " 2   hypertension       5110 non-null   category\n",
      " 3   heart_disease      5110 non-null   category\n",
      " 4   ever_married       5110 non-null   object  \n",
      " 5   work_type          5110 non-null   object  \n",
      " 6   Residence_type     5110 non-null   object  \n",
      " 7   avg_glucose_level  5110 non-null   float64 \n",
      " 8   bmi                5110 non-null   float64 \n",
      " 9   smoking_status     5110 non-null   object  \n",
      " 10  stroke             5110 non-null   category\n",
      "dtypes: category(3), float64(3), object(5)\n",
      "memory usage: 334.8+ KB\n"
     ]
    }
   ],
   "source": [
    "data.info()"
   ]
  },
  {
   "cell_type": "markdown",
   "metadata": {},
   "source": [
    "El conjunto de datos `personas_limpio`contiene 5.110 registros y 11 columnas resultado de la limpieza de datos aplicada. Las variables categóricas son `gender`, `ever_married`, `work_type`, `resident_type`y `smoking_status`, variables que indican factores importantes a la hora de predecir un ACV. Además, las variables númericas tales `age`, `avg_glucose_level` y `bmi` indican edad y estado de salud de la persona. Y las variables binarias `hypertension` y `heart_disase`, las cuales indican el padecimiento de cierta patologia. Finalmente, la variable a predecir `stroke` indica la presencia de ACV en la persona."
   ]
  },
  {
   "cell_type": "markdown",
   "metadata": {},
   "source": [
    "# Procesamiento de los datos"
   ]
  },
  {
   "cell_type": "markdown",
   "metadata": {},
   "source": [
    "En este apartado se definen las variables predictoras y a predecir, se codifican las variables categoricas aplicando One-Hot Encoding para transformarlas en variables númericas y se aplica reducción de dimensionalidad con PCA. Además, se divide el conjunto de datos en entrenamiento y prueba para la construcción y prueba de los modelos."
   ]
  },
  {
   "cell_type": "code",
   "execution_count": 20,
   "metadata": {},
   "outputs": [],
   "source": [
    "# Definición de las variables predictoras y a predecir\n",
    "X = data.drop(columns=['stroke'])  # Eliminar variable a predecir\n",
    "y = data['stroke']"
   ]
  },
  {
   "cell_type": "code",
   "execution_count": 21,
   "metadata": {},
   "outputs": [],
   "source": [
    "# Conversión de variables categoricas a numericas con One-Hot Encoding\n",
    "data_dummies = pd.get_dummies(X,columns=X.select_dtypes(include=['object','category']).columns.to_list())\n",
    "\n",
    "# Estandarización de las variables\n",
    "scaler = StandardScaler()\n",
    "data_scaled = scaler.fit_transform(data_dummies)"
   ]
  },
  {
   "cell_type": "code",
   "execution_count": 22,
   "metadata": {},
   "outputs": [
    {
     "name": "stdout",
     "output_type": "stream",
     "text": [
      "Dimensiones antes de PCA: (5110, 23)\n",
      "Dimensiones después de PCA: (5110, 14)\n"
     ]
    }
   ],
   "source": [
    "# Reducción de dimensionalidad PCA\n",
    "pca = PCA(n_components=0.95)  # COnservar el 95% de la varianza\n",
    "data_pca = pca.fit_transform(data_scaled)\n",
    "\n",
    "print(f\"Dimensiones antes de PCA: {data_scaled.shape}\")\n",
    "print(f\"Dimensiones después de PCA: {data_pca.shape}\")"
   ]
  },
  {
   "cell_type": "code",
   "execution_count": 23,
   "metadata": {},
   "outputs": [],
   "source": [
    "# Separación de variables predictoras (X) y variable de interés (y) en set de entrenamiento y test usandola función train_test_split\n",
    "X_train, X_test, y_train, y_test = train_test_split(data_pca, y, test_size=0.33, random_state=40)"
   ]
  },
  {
   "cell_type": "markdown",
   "metadata": {},
   "source": [
    "# Ajuste hiperparametros"
   ]
  },
  {
   "cell_type": "markdown",
   "metadata": {},
   "source": [
    "En esta sección se realizara el ajuste de hiperparametros en cada uno de los modelos de clasificación probados, los mejores hiperparametros seran almacenados en MLFlow."
   ]
  },
  {
   "cell_type": "code",
   "execution_count": null,
   "metadata": {},
   "outputs": [
    {
     "data": {
      "text/plain": [
       "(0.06060606060606061, 0.944872554831061)"
      ]
     },
     "execution_count": 24,
     "metadata": {},
     "output_type": "execute_result"
    }
   ],
   "source": [
    "# Modelo básico\n",
    "clf = XGBClassifier()\n",
    "# Entrenamiento (fit) y desempeño del modelo XGBClassifier\n",
    "clf.fit(X_train, y_train)\n",
    "y_pred = clf.predict(X_test)\n",
    "metrics.f1_score(y_pred, y_test.values), metrics.accuracy_score(y_pred, y_test.values)"
   ]
  },
  {
   "cell_type": "code",
   "execution_count": 29,
   "metadata": {},
   "outputs": [],
   "source": [
    "def objective(trial):\n",
    "    # Hiperparametros a probar\n",
    "    param = {\n",
    "        'verbosity': 0,\n",
    "        'objective': 'binary:logistic',  # Clasificación binaria\n",
    "        'n_estimators': trial.suggest_int('n_estimators', 100, 500),\n",
    "        'max_depth': trial.suggest_int('max_depth', 1, 10),\n",
    "        'learning_rate': trial.suggest_uniform('learning_rate', 0.01, 0.1),\n",
    "        'subsample': trial.suggest_uniform('subsample', 0.7, 1.0),\n",
    "        'colsample_bytree': trial.suggest_uniform('colsample_bytree', 0.7, 1.0),\n",
    "        'min_child_weight': trial.suggest_int('min_child_weight', 1, 8),\n",
    "        'reg_lambda' : trial.suggest_int('reg_lambda',1, 10),\n",
    "        'reg_alpha' : trial.suggest_int('reg_alpha',1, 10)\n",
    "    }\n",
    "\n",
    "    # Create and fit the model\n",
    "    clf = XGBClassifier(**param)\n",
    "    clf.fit(X_train, y_train)\n",
    "\n",
    "    # Predict and calculate RMSE\n",
    "    preds = clf.predict(X_test)\n",
    "    acc = metrics.accuracy_score(y_pred, y_test.values)\n",
    "    f1_score = metrics.f1_score(y_pred, y_test.values)\n",
    "\n",
    "    return f1_score"
   ]
  },
  {
   "cell_type": "code",
   "execution_count": 30,
   "metadata": {},
   "outputs": [
    {
     "name": "stderr",
     "output_type": "stream",
     "text": [
      "[I 2024-11-07 23:53:27,786] A new study created in memory with name: no-name-cd02dce6-207b-4b72-a016-c68cb5d57efc\n",
      "[I 2024-11-07 23:53:28,401] Trial 0 finished with value: 0.06060606060606061 and parameters: {'n_estimators': 281, 'max_depth': 10, 'learning_rate': 0.04262930661938335, 'subsample': 0.7198398803103419, 'colsample_bytree': 0.8759758796282655, 'min_child_weight': 5, 'reg_lambda': 7, 'reg_alpha': 6}. Best is trial 0 with value: 0.06060606060606061.\n",
      "[I 2024-11-07 23:53:28,793] Trial 1 finished with value: 0.06060606060606061 and parameters: {'n_estimators': 123, 'max_depth': 9, 'learning_rate': 0.08283391197493284, 'subsample': 0.9648964371451663, 'colsample_bytree': 0.9077475703788395, 'min_child_weight': 6, 'reg_lambda': 7, 'reg_alpha': 1}. Best is trial 0 with value: 0.06060606060606061.\n",
      "[I 2024-11-07 23:53:29,263] Trial 2 finished with value: 0.06060606060606061 and parameters: {'n_estimators': 249, 'max_depth': 7, 'learning_rate': 0.07073266615772653, 'subsample': 0.9968124375159066, 'colsample_bytree': 0.8430271030990766, 'min_child_weight': 5, 'reg_lambda': 1, 'reg_alpha': 4}. Best is trial 0 with value: 0.06060606060606061.\n",
      "[I 2024-11-07 23:53:29,611] Trial 3 finished with value: 0.06060606060606061 and parameters: {'n_estimators': 227, 'max_depth': 7, 'learning_rate': 0.06272428166426036, 'subsample': 0.9005821381286099, 'colsample_bytree': 0.8045953823121057, 'min_child_weight': 4, 'reg_lambda': 6, 'reg_alpha': 10}. Best is trial 0 with value: 0.06060606060606061.\n",
      "[I 2024-11-07 23:53:29,733] Trial 4 finished with value: 0.06060606060606061 and parameters: {'n_estimators': 140, 'max_depth': 1, 'learning_rate': 0.0883111846431775, 'subsample': 0.9609500443002271, 'colsample_bytree': 0.9546649308784846, 'min_child_weight': 7, 'reg_lambda': 7, 'reg_alpha': 10}. Best is trial 0 with value: 0.06060606060606061.\n",
      "[I 2024-11-07 23:53:30,039] Trial 5 finished with value: 0.06060606060606061 and parameters: {'n_estimators': 141, 'max_depth': 9, 'learning_rate': 0.022212114581351874, 'subsample': 0.7088048764292323, 'colsample_bytree': 0.9438194244333639, 'min_child_weight': 5, 'reg_lambda': 6, 'reg_alpha': 3}. Best is trial 0 with value: 0.06060606060606061.\n",
      "[I 2024-11-07 23:53:30,753] Trial 6 finished with value: 0.06060606060606061 and parameters: {'n_estimators': 457, 'max_depth': 10, 'learning_rate': 0.03982826723690773, 'subsample': 0.8415183591574531, 'colsample_bytree': 0.8833834397181305, 'min_child_weight': 4, 'reg_lambda': 1, 'reg_alpha': 9}. Best is trial 0 with value: 0.06060606060606061.\n",
      "[I 2024-11-07 23:53:31,196] Trial 7 finished with value: 0.06060606060606061 and parameters: {'n_estimators': 490, 'max_depth': 2, 'learning_rate': 0.041826661751387086, 'subsample': 0.842854764387403, 'colsample_bytree': 0.8874839094636703, 'min_child_weight': 4, 'reg_lambda': 8, 'reg_alpha': 4}. Best is trial 0 with value: 0.06060606060606061.\n",
      "[I 2024-11-07 23:53:31,931] Trial 8 finished with value: 0.06060606060606061 and parameters: {'n_estimators': 429, 'max_depth': 10, 'learning_rate': 0.013739506428018397, 'subsample': 0.9510695721196321, 'colsample_bytree': 0.7953653104891778, 'min_child_weight': 7, 'reg_lambda': 2, 'reg_alpha': 8}. Best is trial 0 with value: 0.06060606060606061.\n",
      "[I 2024-11-07 23:53:32,360] Trial 9 finished with value: 0.06060606060606061 and parameters: {'n_estimators': 368, 'max_depth': 3, 'learning_rate': 0.03457467899648499, 'subsample': 0.7444391654690706, 'colsample_bytree': 0.8172664643686547, 'min_child_weight': 6, 'reg_lambda': 6, 'reg_alpha': 5}. Best is trial 0 with value: 0.06060606060606061.\n",
      "[I 2024-11-07 23:53:32,926] Trial 10 finished with value: 0.06060606060606061 and parameters: {'n_estimators': 332, 'max_depth': 5, 'learning_rate': 0.09901633799657097, 'subsample': 0.7802559294953572, 'colsample_bytree': 0.7300099806298623, 'min_child_weight': 3, 'reg_lambda': 10, 'reg_alpha': 7}. Best is trial 0 with value: 0.06060606060606061.\n",
      "[I 2024-11-07 23:53:33,711] Trial 11 finished with value: 0.06060606060606061 and parameters: {'n_estimators': 225, 'max_depth': 8, 'learning_rate': 0.07901831408780917, 'subsample': 0.7904736015941645, 'colsample_bytree': 0.9886691512092598, 'min_child_weight': 1, 'reg_lambda': 4, 'reg_alpha': 2}. Best is trial 0 with value: 0.06060606060606061.\n",
      "[I 2024-11-07 23:53:34,008] Trial 12 finished with value: 0.06060606060606061 and parameters: {'n_estimators': 112, 'max_depth': 5, 'learning_rate': 0.05356784762288198, 'subsample': 0.904572047363707, 'colsample_bytree': 0.906930828143615, 'min_child_weight': 8, 'reg_lambda': 9, 'reg_alpha': 1}. Best is trial 0 with value: 0.06060606060606061.\n",
      "[I 2024-11-07 23:53:34,703] Trial 13 finished with value: 0.06060606060606061 and parameters: {'n_estimators': 279, 'max_depth': 8, 'learning_rate': 0.05492620479553514, 'subsample': 0.8918920788483, 'colsample_bytree': 0.9230166274916621, 'min_child_weight': 2, 'reg_lambda': 4, 'reg_alpha': 6}. Best is trial 0 with value: 0.06060606060606061.\n",
      "[I 2024-11-07 23:53:35,132] Trial 14 finished with value: 0.06060606060606061 and parameters: {'n_estimators': 182, 'max_depth': 10, 'learning_rate': 0.07997886936900295, 'subsample': 0.7985872047200284, 'colsample_bytree': 0.8574347705760866, 'min_child_weight': 6, 'reg_lambda': 8, 'reg_alpha': 6}. Best is trial 0 with value: 0.06060606060606061.\n",
      "[I 2024-11-07 23:53:36,026] Trial 15 finished with value: 0.06060606060606061 and parameters: {'n_estimators': 366, 'max_depth': 8, 'learning_rate': 0.04812405967769962, 'subsample': 0.7004308953202341, 'colsample_bytree': 0.7299977045700183, 'min_child_weight': 6, 'reg_lambda': 4, 'reg_alpha': 1}. Best is trial 0 with value: 0.06060606060606061.\n",
      "[I 2024-11-07 23:53:36,762] Trial 16 finished with value: 0.06060606060606061 and parameters: {'n_estimators': 306, 'max_depth': 6, 'learning_rate': 0.029576187469578616, 'subsample': 0.9398492594690997, 'colsample_bytree': 0.9817179426828712, 'min_child_weight': 8, 'reg_lambda': 8, 'reg_alpha': 3}. Best is trial 0 with value: 0.06060606060606061.\n",
      "[I 2024-11-07 23:53:37,289] Trial 17 finished with value: 0.06060606060606061 and parameters: {'n_estimators': 189, 'max_depth': 9, 'learning_rate': 0.06536769476736295, 'subsample': 0.7491033121166527, 'colsample_bytree': 0.7722924955964844, 'min_child_weight': 3, 'reg_lambda': 5, 'reg_alpha': 7}. Best is trial 0 with value: 0.06060606060606061.\n",
      "[I 2024-11-07 23:53:37,576] Trial 18 finished with value: 0.06060606060606061 and parameters: {'n_estimators': 100, 'max_depth': 4, 'learning_rate': 0.09703786793345417, 'subsample': 0.8588211034226841, 'colsample_bytree': 0.8604807306823355, 'min_child_weight': 7, 'reg_lambda': 10, 'reg_alpha': 5}. Best is trial 0 with value: 0.06060606060606061.\n",
      "[I 2024-11-07 23:53:38,183] Trial 19 finished with value: 0.06060606060606061 and parameters: {'n_estimators': 398, 'max_depth': 9, 'learning_rate': 0.0760698630237126, 'subsample': 0.9949220400988655, 'colsample_bytree': 0.9225775998355435, 'min_child_weight': 5, 'reg_lambda': 7, 'reg_alpha': 8}. Best is trial 0 with value: 0.06060606060606061.\n",
      "[I 2024-11-07 23:53:38,870] Trial 20 finished with value: 0.06060606060606061 and parameters: {'n_estimators': 180, 'max_depth': 6, 'learning_rate': 0.06142014262445128, 'subsample': 0.8152077051275342, 'colsample_bytree': 0.8304352385371719, 'min_child_weight': 3, 'reg_lambda': 7, 'reg_alpha': 3}. Best is trial 0 with value: 0.06060606060606061.\n",
      "[I 2024-11-07 23:53:39,650] Trial 21 finished with value: 0.06060606060606061 and parameters: {'n_estimators': 270, 'max_depth': 7, 'learning_rate': 0.0702605840815459, 'subsample': 0.9996278511237594, 'colsample_bytree': 0.8789694367248307, 'min_child_weight': 5, 'reg_lambda': 2, 'reg_alpha': 4}. Best is trial 0 with value: 0.06060606060606061.\n",
      "[I 2024-11-07 23:53:40,265] Trial 22 finished with value: 0.06060606060606061 and parameters: {'n_estimators': 244, 'max_depth': 7, 'learning_rate': 0.08394828609332733, 'subsample': 0.9735424146428712, 'colsample_bytree': 0.8412253864136818, 'min_child_weight': 6, 'reg_lambda': 5, 'reg_alpha': 2}. Best is trial 0 with value: 0.06060606060606061.\n",
      "[I 2024-11-07 23:53:40,992] Trial 23 finished with value: 0.06060606060606061 and parameters: {'n_estimators': 329, 'max_depth': 9, 'learning_rate': 0.09107081333000475, 'subsample': 0.9279843535850716, 'colsample_bytree': 0.7679782188249082, 'min_child_weight': 5, 'reg_lambda': 3, 'reg_alpha': 4}. Best is trial 0 with value: 0.06060606060606061.\n",
      "[I 2024-11-07 23:53:41,788] Trial 24 finished with value: 0.06060606060606061 and parameters: {'n_estimators': 253, 'max_depth': 8, 'learning_rate': 0.06994836281728598, 'subsample': 0.9820030837476755, 'colsample_bytree': 0.909443573003512, 'min_child_weight': 6, 'reg_lambda': 9, 'reg_alpha': 2}. Best is trial 0 with value: 0.06060606060606061.\n",
      "[I 2024-11-07 23:53:42,523] Trial 25 finished with value: 0.06060606060606061 and parameters: {'n_estimators': 216, 'max_depth': 10, 'learning_rate': 0.047219957559194344, 'subsample': 0.9190677846123686, 'colsample_bytree': 0.8641600227610483, 'min_child_weight': 4, 'reg_lambda': 1, 'reg_alpha': 5}. Best is trial 0 with value: 0.06060606060606061.\n",
      "[I 2024-11-07 23:53:43,248] Trial 26 finished with value: 0.06060606060606061 and parameters: {'n_estimators': 294, 'max_depth': 7, 'learning_rate': 0.07389295308131642, 'subsample': 0.8804124976575812, 'colsample_bytree': 0.9568416753334391, 'min_child_weight': 7, 'reg_lambda': 7, 'reg_alpha': 7}. Best is trial 0 with value: 0.06060606060606061.\n",
      "[I 2024-11-07 23:53:43,786] Trial 27 finished with value: 0.06060606060606061 and parameters: {'n_estimators': 164, 'max_depth': 9, 'learning_rate': 0.05881937875030692, 'subsample': 0.9722934498121679, 'colsample_bytree': 0.9017902854413605, 'min_child_weight': 5, 'reg_lambda': 5, 'reg_alpha': 6}. Best is trial 0 with value: 0.06060606060606061.\n",
      "[I 2024-11-07 23:53:44,653] Trial 28 finished with value: 0.06060606060606061 and parameters: {'n_estimators': 329, 'max_depth': 8, 'learning_rate': 0.0845934677529366, 'subsample': 0.7389384211602291, 'colsample_bytree': 0.8327130574913991, 'min_child_weight': 6, 'reg_lambda': 3, 'reg_alpha': 1}. Best is trial 0 with value: 0.06060606060606061.\n",
      "[I 2024-11-07 23:53:45,287] Trial 29 finished with value: 0.06060606060606061 and parameters: {'n_estimators': 215, 'max_depth': 6, 'learning_rate': 0.06681048782754907, 'subsample': 0.948063584099528, 'colsample_bytree': 0.8040919809860031, 'min_child_weight': 4, 'reg_lambda': 6, 'reg_alpha': 4}. Best is trial 0 with value: 0.06060606060606061.\n",
      "[I 2024-11-07 23:53:45,954] Trial 30 finished with value: 0.06060606060606061 and parameters: {'n_estimators': 257, 'max_depth': 10, 'learning_rate': 0.05066306461134371, 'subsample': 0.8738794163793765, 'colsample_bytree': 0.7767010385223638, 'min_child_weight': 5, 'reg_lambda': 9, 'reg_alpha': 8}. Best is trial 0 with value: 0.06060606060606061.\n",
      "[I 2024-11-07 23:53:46,308] Trial 31 finished with value: 0.06060606060606061 and parameters: {'n_estimators': 136, 'max_depth': 7, 'learning_rate': 0.09075896973115426, 'subsample': 0.9626181827112207, 'colsample_bytree': 0.801736150235781, 'min_child_weight': 4, 'reg_lambda': 6, 'reg_alpha': 10}. Best is trial 0 with value: 0.06060606060606061.\n",
      "[I 2024-11-07 23:53:46,521] Trial 32 finished with value: 0.06060606060606061 and parameters: {'n_estimators': 146, 'max_depth': 1, 'learning_rate': 0.058981252791555625, 'subsample': 0.9118994807037085, 'colsample_bytree': 0.7053037348729194, 'min_child_weight': 3, 'reg_lambda': 7, 'reg_alpha': 9}. Best is trial 0 with value: 0.06060606060606061.\n",
      "[I 2024-11-07 23:53:47,173] Trial 33 finished with value: 0.06060606060606061 and parameters: {'n_estimators': 232, 'max_depth': 7, 'learning_rate': 0.0628986451978944, 'subsample': 0.8212923898696266, 'colsample_bytree': 0.9555446547887396, 'min_child_weight': 4, 'reg_lambda': 6, 'reg_alpha': 10}. Best is trial 0 with value: 0.06060606060606061.\n",
      "[I 2024-11-07 23:53:48,172] Trial 34 finished with value: 0.06060606060606061 and parameters: {'n_estimators': 304, 'max_depth': 9, 'learning_rate': 0.04298183720504979, 'subsample': 0.9298239647978237, 'colsample_bytree': 0.8736861515884742, 'min_child_weight': 5, 'reg_lambda': 8, 'reg_alpha': 9}. Best is trial 0 with value: 0.06060606060606061.\n",
      "[I 2024-11-07 23:53:48,791] Trial 35 finished with value: 0.06060606060606061 and parameters: {'n_estimators': 207, 'max_depth': 5, 'learning_rate': 0.02461955904545831, 'subsample': 0.978042224454472, 'colsample_bytree': 0.8432192458839366, 'min_child_weight': 4, 'reg_lambda': 7, 'reg_alpha': 3}. Best is trial 0 with value: 0.06060606060606061.\n",
      "[I 2024-11-07 23:53:49,989] Trial 36 finished with value: 0.06060606060606061 and parameters: {'n_estimators': 276, 'max_depth': 9, 'learning_rate': 0.037867070001604386, 'subsample': 0.957773147349662, 'colsample_bytree': 0.8837723055326389, 'min_child_weight': 2, 'reg_lambda': 5, 'reg_alpha': 2}. Best is trial 0 with value: 0.06060606060606061.\n",
      "[I 2024-11-07 23:53:50,305] Trial 37 finished with value: 0.06060606060606061 and parameters: {'n_estimators': 126, 'max_depth': 4, 'learning_rate': 0.015394444308826874, 'subsample': 0.89638085395326, 'colsample_bytree': 0.815384746402794, 'min_child_weight': 7, 'reg_lambda': 6, 'reg_alpha': 5}. Best is trial 0 with value: 0.06060606060606061.\n",
      "[I 2024-11-07 23:53:50,788] Trial 38 finished with value: 0.06060606060606061 and parameters: {'n_estimators': 165, 'max_depth': 10, 'learning_rate': 0.07309828099604249, 'subsample': 0.8590683838353838, 'colsample_bytree': 0.9382235103972217, 'min_child_weight': 6, 'reg_lambda': 8, 'reg_alpha': 8}. Best is trial 0 with value: 0.06060606060606061.\n",
      "[I 2024-11-07 23:53:51,813] Trial 39 finished with value: 0.06060606060606061 and parameters: {'n_estimators': 359, 'max_depth': 8, 'learning_rate': 0.08055521844086985, 'subsample': 0.8324661665470034, 'colsample_bytree': 0.8212671075801641, 'min_child_weight': 5, 'reg_lambda': 1, 'reg_alpha': 4}. Best is trial 0 with value: 0.06060606060606061.\n",
      "[I 2024-11-07 23:53:52,635] Trial 40 finished with value: 0.06060606060606061 and parameters: {'n_estimators': 494, 'max_depth': 6, 'learning_rate': 0.08516916166861388, 'subsample': 0.7212765474466873, 'colsample_bytree': 0.8933377669456308, 'min_child_weight': 4, 'reg_lambda': 3, 'reg_alpha': 10}. Best is trial 0 with value: 0.06060606060606061.\n",
      "[I 2024-11-07 23:53:52,866] Trial 41 finished with value: 0.06060606060606061 and parameters: {'n_estimators': 161, 'max_depth': 1, 'learning_rate': 0.09175254946382011, 'subsample': 0.9436870405999734, 'colsample_bytree': 0.9367695115598468, 'min_child_weight': 7, 'reg_lambda': 7, 'reg_alpha': 9}. Best is trial 0 with value: 0.06060606060606061.\n",
      "[I 2024-11-07 23:53:53,164] Trial 42 finished with value: 0.06060606060606061 and parameters: {'n_estimators': 200, 'max_depth': 2, 'learning_rate': 0.08840132191047903, 'subsample': 0.9888760790517512, 'colsample_bytree': 0.97313835076499, 'min_child_weight': 7, 'reg_lambda': 7, 'reg_alpha': 10}. Best is trial 0 with value: 0.06060606060606061.\n",
      "[I 2024-11-07 23:53:53,486] Trial 43 finished with value: 0.06060606060606061 and parameters: {'n_estimators': 117, 'max_depth': 4, 'learning_rate': 0.09550243279421698, 'subsample': 0.7663432767090017, 'colsample_bytree': 0.9988731406282496, 'min_child_weight': 6, 'reg_lambda': 9, 'reg_alpha': 7}. Best is trial 0 with value: 0.06060606060606061.\n",
      "[I 2024-11-07 23:53:53,989] Trial 44 finished with value: 0.06060606060606061 and parameters: {'n_estimators': 465, 'max_depth': 3, 'learning_rate': 0.07712706366451823, 'subsample': 0.9278647369387498, 'colsample_bytree': 0.9146101372296707, 'min_child_weight': 8, 'reg_lambda': 8, 'reg_alpha': 9}. Best is trial 0 with value: 0.06060606060606061.\n",
      "[I 2024-11-07 23:53:54,541] Trial 45 finished with value: 0.06060606060606061 and parameters: {'n_estimators': 238, 'max_depth': 5, 'learning_rate': 0.04336340365627435, 'subsample': 0.9637203756955185, 'colsample_bytree': 0.8505513286789719, 'min_child_weight': 7, 'reg_lambda': 6, 'reg_alpha': 6}. Best is trial 0 with value: 0.06060606060606061.\n",
      "[I 2024-11-07 23:53:55,039] Trial 46 finished with value: 0.06060606060606061 and parameters: {'n_estimators': 136, 'max_depth': 10, 'learning_rate': 0.03115147754071998, 'subsample': 0.9558914939675681, 'colsample_bytree': 0.8930908943438847, 'min_child_weight': 6, 'reg_lambda': 4, 'reg_alpha': 1}. Best is trial 0 with value: 0.06060606060606061.\n",
      "[I 2024-11-07 23:53:55,669] Trial 47 finished with value: 0.06060606060606061 and parameters: {'n_estimators': 288, 'max_depth': 8, 'learning_rate': 0.055963931953285515, 'subsample': 0.904168093079087, 'colsample_bytree': 0.7829586177240164, 'min_child_weight': 8, 'reg_lambda': 8, 'reg_alpha': 3}. Best is trial 0 with value: 0.06060606060606061.\n",
      "[I 2024-11-07 23:53:55,966] Trial 48 finished with value: 0.06060606060606061 and parameters: {'n_estimators': 104, 'max_depth': 2, 'learning_rate': 0.09979484530728851, 'subsample': 0.9995314160683507, 'colsample_bytree': 0.759782058162253, 'min_child_weight': 5, 'reg_lambda': 5, 'reg_alpha': 9}. Best is trial 0 with value: 0.06060606060606061.\n",
      "[I 2024-11-07 23:53:56,379] Trial 49 finished with value: 0.06060606060606061 and parameters: {'n_estimators': 188, 'max_depth': 6, 'learning_rate': 0.06798589168146815, 'subsample': 0.9375749043892523, 'colsample_bytree': 0.8667509041367565, 'min_child_weight': 3, 'reg_lambda': 7, 'reg_alpha': 8}. Best is trial 0 with value: 0.06060606060606061.\n"
     ]
    }
   ],
   "source": [
    "study = optuna.create_study(direction='maximize')\n",
    "study.optimize(objective, n_trials=50)"
   ]
  }
 ],
 "metadata": {
  "kernelspec": {
   "display_name": "base",
   "language": "python",
   "name": "python3"
  },
  "language_info": {
   "codemirror_mode": {
    "name": "ipython",
    "version": 3
   },
   "file_extension": ".py",
   "mimetype": "text/x-python",
   "name": "python",
   "nbconvert_exporter": "python",
   "pygments_lexer": "ipython3",
   "version": "3.12.4"
  }
 },
 "nbformat": 4,
 "nbformat_minor": 2
}
