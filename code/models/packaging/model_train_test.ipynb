{
 "cells": [
  {
   "cell_type": "markdown",
   "metadata": {},
   "source": [
    "# Importación de librerías  "
   ]
  },
  {
   "cell_type": "code",
   "execution_count": 1,
   "metadata": {},
   "outputs": [],
   "source": [
    "import pandas as pd\n",
    "import numpy as np\n",
    "from IPython.display import Image\n",
    "from imblearn.over_sampling import SMOTE\n",
    "from imblearn.under_sampling import RandomUnderSampler\n",
    "from imblearn.combine import SMOTEENN\n",
    "from sklearn.preprocessing import LabelEncoder\n",
    "from sklearn.preprocessing import StandardScaler\n",
    "from sklearn.decomposition import PCA\n",
    "from sklearn.model_selection import train_test_split\n",
    "from xgboost import XGBClassifier\n",
    "from sklearn import metrics\n",
    "import optuna\n",
    "import mlflow\n",
    "\n",
    "import warnings\n",
    "warnings.filterwarnings('ignore')"
   ]
  },
  {
   "cell_type": "markdown",
   "metadata": {},
   "source": [
    "# Cargar datos"
   ]
  },
  {
   "cell_type": "code",
   "execution_count": 2,
   "metadata": {},
   "outputs": [
    {
     "data": {
      "text/html": [
       "<div>\n",
       "<style scoped>\n",
       "    .dataframe tbody tr th:only-of-type {\n",
       "        vertical-align: middle;\n",
       "    }\n",
       "\n",
       "    .dataframe tbody tr th {\n",
       "        vertical-align: top;\n",
       "    }\n",
       "\n",
       "    .dataframe thead th {\n",
       "        text-align: right;\n",
       "    }\n",
       "</style>\n",
       "<table border=\"1\" class=\"dataframe\">\n",
       "  <thead>\n",
       "    <tr style=\"text-align: right;\">\n",
       "      <th></th>\n",
       "      <th>gender</th>\n",
       "      <th>age</th>\n",
       "      <th>hypertension</th>\n",
       "      <th>heart_disease</th>\n",
       "      <th>ever_married</th>\n",
       "      <th>work_type</th>\n",
       "      <th>Residence_type</th>\n",
       "      <th>avg_glucose_level</th>\n",
       "      <th>bmi</th>\n",
       "      <th>smoking_status</th>\n",
       "      <th>stroke</th>\n",
       "    </tr>\n",
       "  </thead>\n",
       "  <tbody>\n",
       "    <tr>\n",
       "      <th>0</th>\n",
       "      <td>Male</td>\n",
       "      <td>67.0</td>\n",
       "      <td>0</td>\n",
       "      <td>1</td>\n",
       "      <td>Yes</td>\n",
       "      <td>Private</td>\n",
       "      <td>Urban</td>\n",
       "      <td>228.69</td>\n",
       "      <td>36.600000</td>\n",
       "      <td>formerly smoked</td>\n",
       "      <td>1</td>\n",
       "    </tr>\n",
       "    <tr>\n",
       "      <th>1</th>\n",
       "      <td>Female</td>\n",
       "      <td>61.0</td>\n",
       "      <td>0</td>\n",
       "      <td>0</td>\n",
       "      <td>Yes</td>\n",
       "      <td>Self-employed</td>\n",
       "      <td>Rural</td>\n",
       "      <td>202.21</td>\n",
       "      <td>28.893237</td>\n",
       "      <td>never smoked</td>\n",
       "      <td>1</td>\n",
       "    </tr>\n",
       "    <tr>\n",
       "      <th>2</th>\n",
       "      <td>Male</td>\n",
       "      <td>80.0</td>\n",
       "      <td>0</td>\n",
       "      <td>1</td>\n",
       "      <td>Yes</td>\n",
       "      <td>Private</td>\n",
       "      <td>Rural</td>\n",
       "      <td>105.92</td>\n",
       "      <td>32.500000</td>\n",
       "      <td>never smoked</td>\n",
       "      <td>1</td>\n",
       "    </tr>\n",
       "    <tr>\n",
       "      <th>3</th>\n",
       "      <td>Female</td>\n",
       "      <td>49.0</td>\n",
       "      <td>0</td>\n",
       "      <td>0</td>\n",
       "      <td>Yes</td>\n",
       "      <td>Private</td>\n",
       "      <td>Urban</td>\n",
       "      <td>171.23</td>\n",
       "      <td>34.400000</td>\n",
       "      <td>smokes</td>\n",
       "      <td>1</td>\n",
       "    </tr>\n",
       "    <tr>\n",
       "      <th>4</th>\n",
       "      <td>Female</td>\n",
       "      <td>79.0</td>\n",
       "      <td>1</td>\n",
       "      <td>0</td>\n",
       "      <td>Yes</td>\n",
       "      <td>Self-employed</td>\n",
       "      <td>Rural</td>\n",
       "      <td>174.12</td>\n",
       "      <td>24.000000</td>\n",
       "      <td>never smoked</td>\n",
       "      <td>1</td>\n",
       "    </tr>\n",
       "  </tbody>\n",
       "</table>\n",
       "</div>"
      ],
      "text/plain": [
       "   gender   age  hypertension  heart_disease ever_married      work_type  \\\n",
       "0    Male  67.0             0              1          Yes        Private   \n",
       "1  Female  61.0             0              0          Yes  Self-employed   \n",
       "2    Male  80.0             0              1          Yes        Private   \n",
       "3  Female  49.0             0              0          Yes        Private   \n",
       "4  Female  79.0             1              0          Yes  Self-employed   \n",
       "\n",
       "  Residence_type  avg_glucose_level        bmi   smoking_status  stroke  \n",
       "0          Urban             228.69  36.600000  formerly smoked       1  \n",
       "1          Rural             202.21  28.893237     never smoked       1  \n",
       "2          Rural             105.92  32.500000     never smoked       1  \n",
       "3          Urban             171.23  34.400000           smokes       1  \n",
       "4          Rural             174.12  24.000000     never smoked       1  "
      ]
     },
     "execution_count": 2,
     "metadata": {},
     "output_type": "execute_result"
    }
   ],
   "source": [
    "data = pd.read_csv(\"../data/clean/personas_limpio.csv\")\n",
    "data.head()"
   ]
  },
  {
   "cell_type": "code",
   "execution_count": 3,
   "metadata": {},
   "outputs": [],
   "source": [
    "# Dado que las variables binarias quedaron como númericas, se procede a convertirlas de nuevo\n",
    "def convert_to_categorical(df, columns):\n",
    "    \"\"\"\n",
    "    Convierte las columnas especificadas de un DataFrame a tipo categórico.\n",
    "\n",
    "    Parámetros:\n",
    "    df (pd.DataFrame): El DataFrame en el que se realizarán las conversiones.\n",
    "    columns (list): Lista de nombres de columnas a convertir a tipo categórico.\n",
    "\n",
    "    Retorna:\n",
    "    pd.DataFrame: El DataFrame con las columnas especificadas convertidas a tipo categórico.\n",
    "    \"\"\"\n",
    "    for column in columns:\n",
    "        if column in df.columns:\n",
    "            df[column] = pd.Categorical(df[column])\n",
    "        else:\n",
    "            print(f\"Columna '{column}' no encontrada en el DataFrame.\")\n",
    "    return df\n",
    "\n",
    "categorical_columns = ['hypertension', 'heart_disease','stroke']\n",
    "data = convert_to_categorical(data, categorical_columns)"
   ]
  },
  {
   "cell_type": "code",
   "execution_count": 4,
   "metadata": {},
   "outputs": [
    {
     "name": "stdout",
     "output_type": "stream",
     "text": [
      "<class 'pandas.core.frame.DataFrame'>\n",
      "RangeIndex: 5110 entries, 0 to 5109\n",
      "Data columns (total 11 columns):\n",
      " #   Column             Non-Null Count  Dtype   \n",
      "---  ------             --------------  -----   \n",
      " 0   gender             5110 non-null   object  \n",
      " 1   age                5110 non-null   float64 \n",
      " 2   hypertension       5110 non-null   category\n",
      " 3   heart_disease      5110 non-null   category\n",
      " 4   ever_married       5110 non-null   object  \n",
      " 5   work_type          5110 non-null   object  \n",
      " 6   Residence_type     5110 non-null   object  \n",
      " 7   avg_glucose_level  5110 non-null   float64 \n",
      " 8   bmi                5110 non-null   float64 \n",
      " 9   smoking_status     5110 non-null   object  \n",
      " 10  stroke             5110 non-null   category\n",
      "dtypes: category(3), float64(3), object(5)\n",
      "memory usage: 334.8+ KB\n"
     ]
    }
   ],
   "source": [
    "data.info()"
   ]
  },
  {
   "cell_type": "markdown",
   "metadata": {},
   "source": [
    "El conjunto de datos `personas_limpio`contiene 5.110 registros y 11 columnas resultado de la limpieza de datos aplicada. Las variables categóricas son `gender`, `ever_married`, `work_type`, `resident_type`y `smoking_status`, variables que indican factores importantes a la hora de predecir un ACV. Además, las variables númericas tales `age`, `avg_glucose_level` y `bmi` indican edad y estado de salud de la persona. Y las variables binarias `hypertension` y `heart_disase`, las cuales indican el padecimiento de cierta patologia. Finalmente, la variable a predecir `stroke` indica la presencia de ACV en la persona."
   ]
  },
  {
   "cell_type": "markdown",
   "metadata": {},
   "source": [
    "# Procesamiento de los datos"
   ]
  },
  {
   "cell_type": "markdown",
   "metadata": {},
   "source": [
    "En este apartado se definen las variables predictoras y a predecir, se codifican las variables categoricas aplicando One-Hot Encoding para transformarlas en variables númericas y se aplica reducción de dimensionalidad con PCA. Además, se divide el conjunto de datos en entrenamiento y prueba para la construcción y prueba de los modelos."
   ]
  },
  {
   "cell_type": "code",
   "execution_count": 5,
   "metadata": {},
   "outputs": [
    {
     "data": {
      "text/plain": [
       "stroke\n",
       "0    4861\n",
       "1     249\n",
       "Name: count, dtype: int64"
      ]
     },
     "execution_count": 5,
     "metadata": {},
     "output_type": "execute_result"
    }
   ],
   "source": [
    "data['stroke'].value_counts()"
   ]
  },
  {
   "cell_type": "code",
   "execution_count": 6,
   "metadata": {},
   "outputs": [],
   "source": [
    "# Definición de las variables predictoras y a predecir\n",
    "X = data.drop(columns=['stroke'])  # Eliminar variable a predecir\n",
    "y = data['stroke']"
   ]
  },
  {
   "cell_type": "code",
   "execution_count": 7,
   "metadata": {},
   "outputs": [],
   "source": [
    "# Conversión de variables categoricas a numericas con One-Hot Encoding\n",
    "data_dummies = pd.get_dummies(X,columns=X.select_dtypes(include=['object','category']).columns.to_list())\n"
   ]
  },
  {
   "cell_type": "markdown",
   "metadata": {},
   "source": [
    "Dado que la clase a predecir esta desbalanceada, hay mayor proporción de registros de personas aun no han presentado un ACV, se aplicará una técnica de balanceo para distribuir la clase predictora."
   ]
  },
  {
   "cell_type": "code",
   "execution_count": 26,
   "metadata": {},
   "outputs": [],
   "source": [
    "def class_balance(X,y,tecnica='SMOTE'):\n",
    "    \"\"\"\n",
    "    Aplica diversas tecnicas de balanceo de clases.\n",
    "\n",
    "    Parámetros:\n",
    "    X: variables predictoras.\n",
    "    y: variable a predecir.\n",
    "    técnica: método a aplicar de balanceo de clases.\n",
    "\n",
    "    Retorna:\n",
    "    X_resampled: variables predictoras resampleadas.\n",
    "    y_resampled: variable a predecir resampleada.\n",
    "    \"\"\"\n",
    "    if tecnica == 'SMOTE':\n",
    "        \n",
    "        # Oversampling con SMOTE\n",
    "        smote = SMOTE(sampling_strategy='minority')  # Aumenta solo la clase minoritaria\n",
    "        X_resampled, y_resampled = smote.fit_resample(X, y)\n",
    "\n",
    "    if tecnica == 'Undersampling':\n",
    "\n",
    "        # Undersampling con RandomUnderSampler\n",
    "        undersample = RandomUnderSampler(sampling_strategy=0.5)  # Reduce la clase mayoritaria a una proporción de 0.5\n",
    "        X_resampled, y_resampled = undersample.fit_resample(X, y)\n",
    "\n",
    "    if tecnica == 'SMOTE-ENN':\n",
    "\n",
    "        # Combinación de SMOTE y ENN(Edicion de vecinos)\n",
    "        smote_enn = SMOTEENN(sampling_strategy='auto')\n",
    "        X_resampled, y_resampled = smote_enn.fit_resample(X, y)\n",
    "\n",
    "    return X_resampled, y_resampled "
   ]
  },
  {
   "cell_type": "code",
   "execution_count": 96,
   "metadata": {},
   "outputs": [],
   "source": [
    "X_resampled, y_resampled = class_balance(data_dummies, y, 'SMOTE-ENN')"
   ]
  },
  {
   "cell_type": "code",
   "execution_count": 97,
   "metadata": {},
   "outputs": [
    {
     "data": {
      "text/plain": [
       "stroke\n",
       "1    4607\n",
       "0    3606\n",
       "Name: count, dtype: int64"
      ]
     },
     "execution_count": 97,
     "metadata": {},
     "output_type": "execute_result"
    }
   ],
   "source": [
    "y_resampled.value_counts()"
   ]
  },
  {
   "cell_type": "code",
   "execution_count": 98,
   "metadata": {},
   "outputs": [],
   "source": [
    "# Estandarización de las variables\n",
    "scaler = StandardScaler()\n",
    "data_scaled = scaler.fit_transform(X_resampled)"
   ]
  },
  {
   "cell_type": "code",
   "execution_count": null,
   "metadata": {},
   "outputs": [
    {
     "name": "stdout",
     "output_type": "stream",
     "text": [
      "Dimensiones antes de PCA: (8213, 23)\n",
      "Dimensiones después de PCA: (8213, 18)\n"
     ]
    }
   ],
   "source": [
    "# Reducción de dimensionalidad PCA\n",
    "pca = PCA(n_components=0.95)  # Conservar el 95% de la varianza\n",
    "data_pca = pca.fit_transform(data_scaled)\n",
    "\n",
    "print(f\"Dimensiones antes de PCA: {data_scaled.shape}\")\n",
    "print(f\"Dimensiones después de PCA: {data_pca.shape}\")"
   ]
  },
  {
   "cell_type": "code",
   "execution_count": 100,
   "metadata": {},
   "outputs": [],
   "source": [
    "# Separación de variables predictoras (X) y variable de interés (y) en set de entrenamiento y test usandola función train_test_split\n",
    "X_train, X_test, y_train, y_test = train_test_split(data_pca, y_resampled, test_size=0.33, random_state=40)"
   ]
  },
  {
   "cell_type": "markdown",
   "metadata": {},
   "source": [
    "# Ajuste hiperparametros"
   ]
  },
  {
   "cell_type": "markdown",
   "metadata": {},
   "source": [
    "En esta sección se realizara el ajuste de hiperparametros en cada uno de los modelos de clasificación probados, los mejores hiperparametros seran almacenados en MLFlow."
   ]
  },
  {
   "cell_type": "code",
   "execution_count": 101,
   "metadata": {},
   "outputs": [
    {
     "data": {
      "text/plain": [
       "(0.9674690956408588, 0.9631132423459978)"
      ]
     },
     "execution_count": 101,
     "metadata": {},
     "output_type": "execute_result"
    }
   ],
   "source": [
    "# Modelo básico\n",
    "clf = XGBClassifier()\n",
    "# Entrenamiento (fit) y desempeño del modelo XGBClassifier\n",
    "clf.fit(X_train, y_train)\n",
    "y_pred = clf.predict(X_test)\n",
    "metrics.f1_score(y_pred, y_test.values), metrics.accuracy_score(y_pred, y_test.values)"
   ]
  },
  {
   "cell_type": "code",
   "execution_count": 102,
   "metadata": {},
   "outputs": [],
   "source": [
    "# Se usara una funcion para hacer la busqueda de los mejores hiperparametros de manera automática\n",
    "def objective(trial):\n",
    "    \"\"\"\n",
    "    Retorna: Métrica del modelo de clasificación\n",
    "    \"\"\"\n",
    "    # Hiperparametros a probar \n",
    "    param = {\n",
    "        'verbosity': 0,\n",
    "        'objective': 'binary:logistic',  # Clasificación binaria\n",
    "        'n_estimators': trial.suggest_int('n_estimators', 100, 500),\n",
    "        'max_depth': trial.suggest_int('max_depth', 1, 10),\n",
    "        'learning_rate': trial.suggest_uniform('learning_rate', 0.01, 0.1),\n",
    "        'subsample': trial.suggest_uniform('subsample', 0.7, 1.0),\n",
    "        'colsample_bytree': trial.suggest_uniform('colsample_bytree', 0.7, 1.0),\n",
    "        'min_child_weight': trial.suggest_int('min_child_weight', 1, 8),\n",
    "        'reg_lambda' : trial.suggest_int('reg_lambda',1, 10),\n",
    "        'reg_alpha' : trial.suggest_int('reg_alpha',1, 10)\n",
    "    }\n",
    "\n",
    "    # Crear y entrenar el modelo\n",
    "    clf = XGBClassifier(**param)\n",
    "    clf.fit(X_train, y_train)\n",
    "\n",
    "    # Predecir sobre el conjunto de prueba\n",
    "    y_pred = clf.predict(X_test)\n",
    "\n",
    "    # Calcular metricas\n",
    "    acc = metrics.accuracy_score(y_pred, y_test.values)\n",
    "    f1_score = metrics.f1_score(y_pred, y_test.values)\n",
    "\n",
    "    return f1_score"
   ]
  },
  {
   "cell_type": "code",
   "execution_count": 103,
   "metadata": {},
   "outputs": [
    {
     "name": "stderr",
     "output_type": "stream",
     "text": [
      "[I 2024-11-09 15:57:39,021] A new study created in memory with name: no-name-df244b23-e812-4449-8217-2d4ea516493a\n",
      "[I 2024-11-09 15:57:39,166] Trial 0 finished with value: 0.9637136319058516 and parameters: {'n_estimators': 189, 'max_depth': 4, 'learning_rate': 0.04857723826746932, 'subsample': 0.7485446920851834, 'colsample_bytree': 0.9601797869858306, 'min_child_weight': 7, 'reg_lambda': 5, 'reg_alpha': 2}. Best is trial 0 with value: 0.9637136319058516.\n",
      "[I 2024-11-09 15:57:39,451] Trial 1 finished with value: 0.962696335078534 and parameters: {'n_estimators': 217, 'max_depth': 10, 'learning_rate': 0.024596419304756895, 'subsample': 0.7443996860757947, 'colsample_bytree': 0.9746064868195567, 'min_child_weight': 4, 'reg_lambda': 10, 'reg_alpha': 6}. Best is trial 0 with value: 0.9637136319058516.\n",
      "[I 2024-11-09 15:57:39,517] Trial 2 finished with value: 0.9378457533355028 and parameters: {'n_estimators': 178, 'max_depth': 1, 'learning_rate': 0.06189169386555681, 'subsample': 0.7417183794493732, 'colsample_bytree': 0.9002238506848749, 'min_child_weight': 2, 'reg_lambda': 4, 'reg_alpha': 1}. Best is trial 0 with value: 0.9637136319058516.\n",
      "[I 2024-11-09 15:57:39,764] Trial 3 finished with value: 0.9617271835132483 and parameters: {'n_estimators': 166, 'max_depth': 10, 'learning_rate': 0.04718830653192912, 'subsample': 0.8043854893782809, 'colsample_bytree': 0.9860818714152921, 'min_child_weight': 8, 'reg_lambda': 10, 'reg_alpha': 2}. Best is trial 0 with value: 0.9637136319058516.\n",
      "[I 2024-11-09 15:57:39,959] Trial 4 finished with value: 0.9633747547416612 and parameters: {'n_estimators': 172, 'max_depth': 7, 'learning_rate': 0.0417137591231774, 'subsample': 0.711139993358812, 'colsample_bytree': 0.8667576073202764, 'min_child_weight': 5, 'reg_lambda': 3, 'reg_alpha': 4}. Best is trial 0 with value: 0.9637136319058516.\n",
      "[I 2024-11-09 15:57:40,177] Trial 5 finished with value: 0.9619422572178478 and parameters: {'n_estimators': 142, 'max_depth': 8, 'learning_rate': 0.017319738627197732, 'subsample': 0.9383108151171501, 'colsample_bytree': 0.753506217171057, 'min_child_weight': 1, 'reg_lambda': 7, 'reg_alpha': 4}. Best is trial 0 with value: 0.9637136319058516.\n",
      "[I 2024-11-09 15:57:40,567] Trial 6 finished with value: 0.9652914210870989 and parameters: {'n_estimators': 489, 'max_depth': 7, 'learning_rate': 0.06022084711273237, 'subsample': 0.9569783355554118, 'colsample_bytree': 0.9063144111848821, 'min_child_weight': 5, 'reg_lambda': 8, 'reg_alpha': 6}. Best is trial 6 with value: 0.9652914210870989.\n",
      "[I 2024-11-09 15:57:41,157] Trial 7 finished with value: 0.9673416067929458 and parameters: {'n_estimators': 311, 'max_depth': 10, 'learning_rate': 0.021936362779868553, 'subsample': 0.8901730308844938, 'colsample_bytree': 0.9231281636552621, 'min_child_weight': 1, 'reg_lambda': 6, 'reg_alpha': 1}. Best is trial 7 with value: 0.9673416067929458.\n",
      "[I 2024-11-09 15:57:41,272] Trial 8 finished with value: 0.9520367936925098 and parameters: {'n_estimators': 279, 'max_depth': 2, 'learning_rate': 0.0353639079336461, 'subsample': 0.9538993911710735, 'colsample_bytree': 0.9954013586040464, 'min_child_weight': 5, 'reg_lambda': 3, 'reg_alpha': 6}. Best is trial 7 with value: 0.9673416067929458.\n",
      "[I 2024-11-09 15:57:41,481] Trial 9 finished with value: 0.9643207855973813 and parameters: {'n_estimators': 498, 'max_depth': 4, 'learning_rate': 0.09942584327452343, 'subsample': 0.9588428070545694, 'colsample_bytree': 0.8933795802523841, 'min_child_weight': 3, 'reg_lambda': 5, 'reg_alpha': 10}. Best is trial 7 with value: 0.9673416067929458.\n",
      "[I 2024-11-09 15:57:42,036] Trial 10 finished with value: 0.9626229508196721 and parameters: {'n_estimators': 389, 'max_depth': 9, 'learning_rate': 0.010896878142035151, 'subsample': 0.8712264344503684, 'colsample_bytree': 0.7917480477227642, 'min_child_weight': 1, 'reg_lambda': 1, 'reg_alpha': 9}. Best is trial 7 with value: 0.9673416067929458.\n",
      "[I 2024-11-09 15:57:42,356] Trial 11 finished with value: 0.9663068367680733 and parameters: {'n_estimators': 411, 'max_depth': 6, 'learning_rate': 0.07493268869173915, 'subsample': 0.8901217372516818, 'colsample_bytree': 0.9232623467253464, 'min_child_weight': 6, 'reg_lambda': 8, 'reg_alpha': 8}. Best is trial 7 with value: 0.9673416067929458.\n",
      "[I 2024-11-09 15:57:42,629] Trial 12 finished with value: 0.9642974123812643 and parameters: {'n_estimators': 373, 'max_depth': 5, 'learning_rate': 0.07898977251468414, 'subsample': 0.8794326265563392, 'colsample_bytree': 0.8128776923627654, 'min_child_weight': 7, 'reg_lambda': 7, 'reg_alpha': 8}. Best is trial 7 with value: 0.9673416067929458.\n",
      "[I 2024-11-09 15:57:42,940] Trial 13 finished with value: 0.9652686762778506 and parameters: {'n_estimators': 381, 'max_depth': 6, 'learning_rate': 0.0760699701551613, 'subsample': 0.827519316103638, 'colsample_bytree': 0.9415998546680354, 'min_child_weight': 6, 'reg_lambda': 8, 'reg_alpha': 8}. Best is trial 7 with value: 0.9673416067929458.\n",
      "[I 2024-11-09 15:57:43,130] Trial 14 finished with value: 0.9646596858638743 and parameters: {'n_estimators': 309, 'max_depth': 3, 'learning_rate': 0.07511119185200567, 'subsample': 0.9102015839258037, 'colsample_bytree': 0.7068542777017722, 'min_child_weight': 3, 'reg_lambda': 7, 'reg_alpha': 7}. Best is trial 7 with value: 0.9673416067929458.\n",
      "[I 2024-11-09 15:57:43,520] Trial 15 finished with value: 0.9663728370878224 and parameters: {'n_estimators': 438, 'max_depth': 8, 'learning_rate': 0.09197784073258192, 'subsample': 0.9959922228064133, 'colsample_bytree': 0.8453348142286348, 'min_child_weight': 3, 'reg_lambda': 9, 'reg_alpha': 4}. Best is trial 7 with value: 0.9673416067929458.\n",
      "[I 2024-11-09 15:57:43,913] Trial 16 finished with value: 0.9683317009467842 and parameters: {'n_estimators': 312, 'max_depth': 9, 'learning_rate': 0.09844512587405368, 'subsample': 0.9988283272594992, 'colsample_bytree': 0.8408324890101574, 'min_child_weight': 2, 'reg_lambda': 9, 'reg_alpha': 4}. Best is trial 16 with value: 0.9683317009467842.\n",
      "[I 2024-11-09 15:57:44,505] Trial 17 finished with value: 0.9672988881621976 and parameters: {'n_estimators': 298, 'max_depth': 9, 'learning_rate': 0.027166584475860955, 'subsample': 0.995750908963104, 'colsample_bytree': 0.8440192823699211, 'min_child_weight': 2, 'reg_lambda': 6, 'reg_alpha': 3}. Best is trial 16 with value: 0.9683317009467842.\n",
      "[I 2024-11-09 15:57:45,017] Trial 18 finished with value: 0.9667318982387475 and parameters: {'n_estimators': 246, 'max_depth': 10, 'learning_rate': 0.08646547765785571, 'subsample': 0.8092053823400479, 'colsample_bytree': 0.8056652601319394, 'min_child_weight': 1, 'reg_lambda': 1, 'reg_alpha': 1}. Best is trial 16 with value: 0.9683317009467842.\n",
      "[I 2024-11-09 15:57:45,502] Trial 19 finished with value: 0.9670257917074764 and parameters: {'n_estimators': 339, 'max_depth': 9, 'learning_rate': 0.06600046722628343, 'subsample': 0.8402595108806261, 'colsample_bytree': 0.8674404024570499, 'min_child_weight': 2, 'reg_lambda': 9, 'reg_alpha': 3}. Best is trial 16 with value: 0.9683317009467842.\n",
      "[I 2024-11-09 15:57:45,938] Trial 20 finished with value: 0.9630356558717698 and parameters: {'n_estimators': 246, 'max_depth': 8, 'learning_rate': 0.031811123219385326, 'subsample': 0.9213616145450467, 'colsample_bytree': 0.7735684889937406, 'min_child_weight': 2, 'reg_lambda': 6, 'reg_alpha': 5}. Best is trial 16 with value: 0.9683317009467842.\n",
      "[I 2024-11-09 15:57:46,551] Trial 21 finished with value: 0.9663508657301535 and parameters: {'n_estimators': 330, 'max_depth': 9, 'learning_rate': 0.02886416876992577, 'subsample': 0.9854859006666713, 'colsample_bytree': 0.8385766132441732, 'min_child_weight': 2, 'reg_lambda': 6, 'reg_alpha': 3}. Best is trial 16 with value: 0.9683317009467842.\n",
      "[I 2024-11-09 15:57:47,148] Trial 22 finished with value: 0.966394779771615 and parameters: {'n_estimators': 285, 'max_depth': 9, 'learning_rate': 0.02091070309184082, 'subsample': 0.9809678447625209, 'colsample_bytree': 0.8741255808622287, 'min_child_weight': 1, 'reg_lambda': 4, 'reg_alpha': 2}. Best is trial 16 with value: 0.9683317009467842.\n",
      "[I 2024-11-09 15:57:47,560] Trial 23 finished with value: 0.9613621480026195 and parameters: {'n_estimators': 260, 'max_depth': 10, 'learning_rate': 0.01087674618179472, 'subsample': 0.9982051938238738, 'colsample_bytree': 0.8218655082918108, 'min_child_weight': 4, 'reg_lambda': 6, 'reg_alpha': 3}. Best is trial 16 with value: 0.9683317009467842.\n",
      "[I 2024-11-09 15:57:47,955] Trial 24 finished with value: 0.9660574412532638 and parameters: {'n_estimators': 333, 'max_depth': 7, 'learning_rate': 0.0414813711082474, 'subsample': 0.9112519823062963, 'colsample_bytree': 0.7410111091732204, 'min_child_weight': 3, 'reg_lambda': 4, 'reg_alpha': 1}. Best is trial 16 with value: 0.9683317009467842.\n",
      "[I 2024-11-09 15:57:48,364] Trial 25 finished with value: 0.9660352710646636 and parameters: {'n_estimators': 310, 'max_depth': 8, 'learning_rate': 0.05216032818324683, 'subsample': 0.9639469954651969, 'colsample_bytree': 0.8377125463025337, 'min_child_weight': 2, 'reg_lambda': 9, 'reg_alpha': 5}. Best is trial 16 with value: 0.9683317009467842.\n",
      "[I 2024-11-09 15:57:49,069] Trial 26 finished with value: 0.9670042469781117 and parameters: {'n_estimators': 347, 'max_depth': 9, 'learning_rate': 0.019377419414975047, 'subsample': 0.9359800093804445, 'colsample_bytree': 0.8686947120095174, 'min_child_weight': 1, 'reg_lambda': 7, 'reg_alpha': 2}. Best is trial 16 with value: 0.9683317009467842.\n",
      "[I 2024-11-09 15:57:49,270] Trial 27 finished with value: 0.9632786885245902 and parameters: {'n_estimators': 101, 'max_depth': 10, 'learning_rate': 0.04090184210996464, 'subsample': 0.7796841305169824, 'colsample_bytree': 0.9379533773533392, 'min_child_weight': 4, 'reg_lambda': 5, 'reg_alpha': 3}. Best is trial 16 with value: 0.9683317009467842.\n",
      "[I 2024-11-09 15:57:49,575] Trial 28 finished with value: 0.962381419692509 and parameters: {'n_estimators': 221, 'max_depth': 7, 'learning_rate': 0.03423714217052615, 'subsample': 0.8650503480421217, 'colsample_bytree': 0.7867732278684934, 'min_child_weight': 2, 'reg_lambda': 2, 'reg_alpha': 4}. Best is trial 16 with value: 0.9683317009467842.\n",
      "[I 2024-11-09 15:57:49,981] Trial 29 finished with value: 0.9666666666666667 and parameters: {'n_estimators': 432, 'max_depth': 5, 'learning_rate': 0.025101787989353086, 'subsample': 0.8950504349453718, 'colsample_bytree': 0.9572885534558576, 'min_child_weight': 3, 'reg_lambda': 6, 'reg_alpha': 2}. Best is trial 16 with value: 0.9683317009467842.\n",
      "[I 2024-11-09 15:57:50,488] Trial 30 finished with value: 0.967699836867863 and parameters: {'n_estimators': 287, 'max_depth': 8, 'learning_rate': 0.04756301510740328, 'subsample': 0.9723180385322481, 'colsample_bytree': 0.9232844505619151, 'min_child_weight': 1, 'reg_lambda': 8, 'reg_alpha': 1}. Best is trial 16 with value: 0.9683317009467842.\n",
      "[I 2024-11-09 15:57:51,029] Trial 31 finished with value: 0.967699836867863 and parameters: {'n_estimators': 284, 'max_depth': 9, 'learning_rate': 0.06845014616854798, 'subsample': 0.9760944041571618, 'colsample_bytree': 0.8893781416841056, 'min_child_weight': 1, 'reg_lambda': 8, 'reg_alpha': 1}. Best is trial 16 with value: 0.9683317009467842.\n",
      "[I 2024-11-09 15:57:51,487] Trial 32 finished with value: 0.9680365296803652 and parameters: {'n_estimators': 265, 'max_depth': 8, 'learning_rate': 0.08486078316175275, 'subsample': 0.9776627263125117, 'colsample_bytree': 0.9234401911782802, 'min_child_weight': 1, 'reg_lambda': 10, 'reg_alpha': 1}. Best is trial 16 with value: 0.9683317009467842.\n",
      "[I 2024-11-09 15:57:51,951] Trial 33 finished with value: 0.9667535853976532 and parameters: {'n_estimators': 271, 'max_depth': 8, 'learning_rate': 0.09642426555337404, 'subsample': 0.9758866429203924, 'colsample_bytree': 0.8923315786074848, 'min_child_weight': 1, 'reg_lambda': 10, 'reg_alpha': 1}. Best is trial 16 with value: 0.9683317009467842.\n",
      "[I 2024-11-09 15:57:52,250] Trial 34 finished with value: 0.9677629436665581 and parameters: {'n_estimators': 210, 'max_depth': 6, 'learning_rate': 0.08597052501660217, 'subsample': 0.9450624087792949, 'colsample_bytree': 0.960596281463792, 'min_child_weight': 1, 'reg_lambda': 10, 'reg_alpha': 1}. Best is trial 16 with value: 0.9683317009467842.\n",
      "[I 2024-11-09 15:57:52,526] Trial 35 finished with value: 0.9687092568448501 and parameters: {'n_estimators': 206, 'max_depth': 6, 'learning_rate': 0.08620375871783365, 'subsample': 0.9408745765166192, 'colsample_bytree': 0.9711085931423525, 'min_child_weight': 2, 'reg_lambda': 10, 'reg_alpha': 2}. Best is trial 35 with value: 0.9687092568448501.\n",
      "[I 2024-11-09 15:57:52,804] Trial 36 finished with value: 0.9679947746570868 and parameters: {'n_estimators': 211, 'max_depth': 6, 'learning_rate': 0.08877893877244096, 'subsample': 0.9377801178488514, 'colsample_bytree': 0.9600257728699473, 'min_child_weight': 2, 'reg_lambda': 10, 'reg_alpha': 2}. Best is trial 35 with value: 0.9687092568448501.\n",
      "[I 2024-11-09 15:57:52,965] Trial 37 finished with value: 0.9659685863874345 and parameters: {'n_estimators': 154, 'max_depth': 4, 'learning_rate': 0.08616922653447703, 'subsample': 0.9260337073962305, 'colsample_bytree': 0.9768605091853114, 'min_child_weight': 3, 'reg_lambda': 10, 'reg_alpha': 2}. Best is trial 35 with value: 0.9687092568448501.\n",
      "[I 2024-11-09 15:57:53,197] Trial 38 finished with value: 0.9670687968699054 and parameters: {'n_estimators': 197, 'max_depth': 5, 'learning_rate': 0.09210914432155666, 'subsample': 0.9381991981983571, 'colsample_bytree': 0.9627936544637011, 'min_child_weight': 2, 'reg_lambda': 9, 'reg_alpha': 2}. Best is trial 35 with value: 0.9687092568448501.\n",
      "[I 2024-11-09 15:57:53,494] Trial 39 finished with value: 0.9659685863874345 and parameters: {'n_estimators': 226, 'max_depth': 7, 'learning_rate': 0.0824094860541183, 'subsample': 0.9509263631265807, 'colsample_bytree': 0.9991314010331577, 'min_child_weight': 4, 'reg_lambda': 10, 'reg_alpha': 4}. Best is trial 35 with value: 0.9687092568448501.\n",
      "[I 2024-11-09 15:57:53,730] Trial 40 finished with value: 0.9650212487741092 and parameters: {'n_estimators': 184, 'max_depth': 6, 'learning_rate': 0.09266760453347052, 'subsample': 0.7310599621098153, 'colsample_bytree': 0.944688275748852, 'min_child_weight': 3, 'reg_lambda': 9, 'reg_alpha': 5}. Best is trial 35 with value: 0.9687092568448501.\n",
      "[I 2024-11-09 15:57:54,019] Trial 41 finished with value: 0.9696376101860921 and parameters: {'n_estimators': 200, 'max_depth': 6, 'learning_rate': 0.0874897674036755, 'subsample': 0.9505081389818345, 'colsample_bytree': 0.9724659902694157, 'min_child_weight': 2, 'reg_lambda': 10, 'reg_alpha': 2}. Best is trial 41 with value: 0.9696376101860921.\n",
      "[I 2024-11-09 15:57:54,326] Trial 42 finished with value: 0.9667318982387475 and parameters: {'n_estimators': 126, 'max_depth': 7, 'learning_rate': 0.09893486744420965, 'subsample': 0.9694193103022688, 'colsample_bytree': 0.9835100309529593, 'min_child_weight': 2, 'reg_lambda': 10, 'reg_alpha': 2}. Best is trial 41 with value: 0.9696376101860921.\n",
      "[I 2024-11-09 15:57:54,606] Trial 43 finished with value: 0.9664166938376263 and parameters: {'n_estimators': 243, 'max_depth': 5, 'learning_rate': 0.08911079588841543, 'subsample': 0.9230896380339979, 'colsample_bytree': 0.9645548302835747, 'min_child_weight': 2, 'reg_lambda': 9, 'reg_alpha': 2}. Best is trial 41 with value: 0.9696376101860921.\n",
      "[I 2024-11-09 15:57:54,902] Trial 44 finished with value: 0.9663068367680733 and parameters: {'n_estimators': 200, 'max_depth': 6, 'learning_rate': 0.08084957151393793, 'subsample': 0.9571315307301994, 'colsample_bytree': 0.911418593307336, 'min_child_weight': 3, 'reg_lambda': 10, 'reg_alpha': 3}. Best is trial 41 with value: 0.9696376101860921.\n",
      "[I 2024-11-09 15:57:55,096] Trial 45 finished with value: 0.9642974123812643 and parameters: {'n_estimators': 183, 'max_depth': 3, 'learning_rate': 0.09734709331070894, 'subsample': 0.986237519741627, 'colsample_bytree': 0.9766766911350836, 'min_child_weight': 2, 'reg_lambda': 9, 'reg_alpha': 2}. Best is trial 41 with value: 0.9696376101860921.\n",
      "[I 2024-11-09 15:57:55,359] Trial 46 finished with value: 0.9637136319058516 and parameters: {'n_estimators': 166, 'max_depth': 6, 'learning_rate': 0.0946992207952762, 'subsample': 0.9447467399645696, 'colsample_bytree': 0.9896912218169469, 'min_child_weight': 4, 'reg_lambda': 10, 'reg_alpha': 4}. Best is trial 41 with value: 0.9696376101860921.\n",
      "[I 2024-11-09 15:57:55,605] Trial 47 finished with value: 0.9659462999345121 and parameters: {'n_estimators': 234, 'max_depth': 5, 'learning_rate': 0.07189728625550346, 'subsample': 0.911585433025576, 'colsample_bytree': 0.9501796381192122, 'min_child_weight': 8, 'reg_lambda': 10, 'reg_alpha': 3}. Best is trial 41 with value: 0.9696376101860921.\n",
      "[I 2024-11-09 15:57:55,867] Trial 48 finished with value: 0.9660352710646636 and parameters: {'n_estimators': 140, 'max_depth': 7, 'learning_rate': 0.08318614772580904, 'subsample': 0.8994937480840199, 'colsample_bytree': 0.9240543314821396, 'min_child_weight': 1, 'reg_lambda': 9, 'reg_alpha': 1}. Best is trial 41 with value: 0.9696376101860921.\n",
      "[I 2024-11-09 15:57:56,070] Trial 49 finished with value: 0.9630114566284779 and parameters: {'n_estimators': 267, 'max_depth': 3, 'learning_rate': 0.05796864368020534, 'subsample': 0.9348856665337898, 'colsample_bytree': 0.9362273286070247, 'min_child_weight': 7, 'reg_lambda': 8, 'reg_alpha': 7}. Best is trial 41 with value: 0.9696376101860921.\n"
     ]
    }
   ],
   "source": [
    "study = optuna.create_study(direction='maximize')\n",
    "study.optimize(objective, n_trials=50)"
   ]
  },
  {
   "cell_type": "code",
   "execution_count": 104,
   "metadata": {},
   "outputs": [
    {
     "data": {
      "text/plain": [
       "{'n_estimators': 200,\n",
       " 'max_depth': 6,\n",
       " 'learning_rate': 0.0874897674036755,\n",
       " 'subsample': 0.9505081389818345,\n",
       " 'colsample_bytree': 0.9724659902694157,\n",
       " 'min_child_weight': 2,\n",
       " 'reg_lambda': 10,\n",
       " 'reg_alpha': 2}"
      ]
     },
     "execution_count": 104,
     "metadata": {},
     "output_type": "execute_result"
    }
   ],
   "source": [
    "study.best_trial.params"
   ]
  },
  {
   "cell_type": "code",
   "execution_count": 78,
   "metadata": {},
   "outputs": [],
   "source": [
    "# Configurar la URI de seguimiento de MLflow para que apunte al servidor local\n",
    "mlflow.set_tracking_uri(\"http://localhost:5000\")  # La dirección IP y puerto del servidor MLflow"
   ]
  },
  {
   "cell_type": "code",
   "execution_count": 94,
   "metadata": {},
   "outputs": [],
   "source": [
    "# Esta función define una corrida del modelo, con entrenamiento y registro en MLflow\n",
    "def run_mlflow(run_name=\"MLflow CE XGBoost-Best trial\"):\n",
    "\n",
    "    # Iniciamos una corrida de MLflow\n",
    "    mlflow.start_run(run_name=run_name)\n",
    "    run = mlflow.active_run()\n",
    "    \n",
    "    # MLflow asigna un ID al experimento y a la corrida\n",
    "    experimentID = run.info.experiment_id\n",
    "    runID = run.info.run_uuid\n",
    "\n",
    "    # Entrenar el modelo con los mejores parametros\n",
    "    clf =  XGBClassifier(**study.best_trial.params)\n",
    "    clf.fit(X_train, y_train)\n",
    "    # Evaluar el modelo\n",
    "    y_pred = clf.predict(X_test)\n",
    "    f1_score = metrics.f1_score(y_pred, y_test.values)\n",
    "\n",
    "    # Registrar los parametros y métrica\n",
    "    mlflow.log_params(study.best_trial.params)\n",
    "    mlflow.log_metric(\"f1_score\", study.best_trial.value)\n",
    "\n",
    "    # Registrar el modelo\n",
    "    mlflow.sklearn.log_model(clf, \"xgboost-model\")\n",
    "\n",
    "    mlflow.end_run(status='FINISHED')\n",
    "    return (experimentID, runID)"
   ]
  },
  {
   "cell_type": "code",
   "execution_count": 105,
   "metadata": {},
   "outputs": [
    {
     "name": "stderr",
     "output_type": "stream",
     "text": [
      "2024/11/09 15:58:16 WARNING mlflow.models.model: Model logged without a signature and input example. Please set `input_example` parameter when logging the model to auto infer the model signature.\n",
      "2024/11/09 15:58:16 INFO mlflow.tracking._tracking_service.client: 🏃 View run MLflow CE XGBoost-Best trial at: http://localhost:5000/#/experiments/0/runs/2738e1afbb7c447ebdf47ecfd7e0ee92.\n",
      "2024/11/09 15:58:16 INFO mlflow.tracking._tracking_service.client: 🧪 View experiment at: http://localhost:5000/#/experiments/0.\n"
     ]
    },
    {
     "name": "stdout",
     "output_type": "stream",
     "text": [
      "MLflow Run completed with run_id 2738e1afbb7c447ebdf47ecfd7e0ee92 and experiment_id 0\n"
     ]
    }
   ],
   "source": [
    "(experimentID, runID) = run_mlflow()\n",
    "print(\"MLflow Run completed with run_id {} and experiment_id {}\".format(runID, experimentID))"
   ]
  },
  {
   "cell_type": "code",
   "execution_count": 83,
   "metadata": {},
   "outputs": [
    {
     "name": "stderr",
     "output_type": "stream",
     "text": [
      "2024/11/09 13:30:35 INFO mlflow.tracking._tracking_service.client: 🏃 View run MLflow CE XGBoost-Best trial at: http://localhost:5000/#/experiments/0/runs/e838516e6c834f4dae622102bf3b2f7f.\n",
      "2024/11/09 13:30:35 INFO mlflow.tracking._tracking_service.client: 🧪 View experiment at: http://localhost:5000/#/experiments/0.\n"
     ]
    },
    {
     "ename": "RestException",
     "evalue": "INVALID_PARAMETER_VALUE: The run e838516e6c834f4dae622102bf3b2f7f must be in 'active' lifecycle_stage.",
     "output_type": "error",
     "traceback": [
      "\u001b[1;31m---------------------------------------------------------------------------\u001b[0m",
      "\u001b[1;31mRestException\u001b[0m                             Traceback (most recent call last)",
      "Cell \u001b[1;32mIn[83], line 1\u001b[0m\n\u001b[1;32m----> 1\u001b[0m mlflow\u001b[38;5;241m.\u001b[39mend_run()\n",
      "File \u001b[1;32mc:\\Users\\sonia.olaya\\AppData\\Local\\anaconda3\\Lib\\site-packages\\mlflow\\tracking\\fluent.py:492\u001b[0m, in \u001b[0;36mend_run\u001b[1;34m(status)\u001b[0m\n\u001b[0;32m    490\u001b[0m run \u001b[38;5;241m=\u001b[39m _active_run_stack\u001b[38;5;241m.\u001b[39mpop()\n\u001b[0;32m    491\u001b[0m _last_active_run_id \u001b[38;5;241m=\u001b[39m run\u001b[38;5;241m.\u001b[39minfo\u001b[38;5;241m.\u001b[39mrun_id\n\u001b[1;32m--> 492\u001b[0m MlflowClient()\u001b[38;5;241m.\u001b[39mset_terminated(_last_active_run_id, status)\n\u001b[0;32m    493\u001b[0m \u001b[38;5;28;01mif\u001b[39;00m _last_active_run_id \u001b[38;5;129;01min\u001b[39;00m run_id_to_system_metrics_monitor:\n\u001b[0;32m    494\u001b[0m     system_metrics_monitor \u001b[38;5;241m=\u001b[39m run_id_to_system_metrics_monitor\u001b[38;5;241m.\u001b[39mpop(_last_active_run_id)\n",
      "File \u001b[1;32mc:\\Users\\sonia.olaya\\AppData\\Local\\anaconda3\\Lib\\site-packages\\mlflow\\tracking\\client.py:2899\u001b[0m, in \u001b[0;36mMlflowClient.set_terminated\u001b[1;34m(self, run_id, status, end_time)\u001b[0m\n\u001b[0;32m   2855\u001b[0m \u001b[38;5;28;01mdef\u001b[39;00m \u001b[38;5;21mset_terminated\u001b[39m(\n\u001b[0;32m   2856\u001b[0m     \u001b[38;5;28mself\u001b[39m, run_id: \u001b[38;5;28mstr\u001b[39m, status: Optional[\u001b[38;5;28mstr\u001b[39m] \u001b[38;5;241m=\u001b[39m \u001b[38;5;28;01mNone\u001b[39;00m, end_time: Optional[\u001b[38;5;28mint\u001b[39m] \u001b[38;5;241m=\u001b[39m \u001b[38;5;28;01mNone\u001b[39;00m\n\u001b[0;32m   2857\u001b[0m ) \u001b[38;5;241m-\u001b[39m\u001b[38;5;241m>\u001b[39m \u001b[38;5;28;01mNone\u001b[39;00m:\n\u001b[0;32m   2858\u001b[0m \u001b[38;5;250m    \u001b[39m\u001b[38;5;124;03m\"\"\"Set a run's status to terminated.\u001b[39;00m\n\u001b[0;32m   2859\u001b[0m \n\u001b[0;32m   2860\u001b[0m \u001b[38;5;124;03m    Args:\u001b[39;00m\n\u001b[1;32m   (...)\u001b[0m\n\u001b[0;32m   2897\u001b[0m \n\u001b[0;32m   2898\u001b[0m \u001b[38;5;124;03m    \"\"\"\u001b[39;00m\n\u001b[1;32m-> 2899\u001b[0m     \u001b[38;5;28mself\u001b[39m\u001b[38;5;241m.\u001b[39m_tracking_client\u001b[38;5;241m.\u001b[39mset_terminated(run_id, status, end_time)\n",
      "File \u001b[1;32mc:\\Users\\sonia.olaya\\AppData\\Local\\anaconda3\\Lib\\site-packages\\mlflow\\tracking\\_tracking_service\\client.py:942\u001b[0m, in \u001b[0;36mTrackingServiceClient.set_terminated\u001b[1;34m(self, run_id, status, end_time)\u001b[0m\n\u001b[0;32m    940\u001b[0m \u001b[38;5;28mself\u001b[39m\u001b[38;5;241m.\u001b[39mstore\u001b[38;5;241m.\u001b[39mshut_down_async_logging()\n\u001b[0;32m    941\u001b[0m \u001b[38;5;28mself\u001b[39m\u001b[38;5;241m.\u001b[39m_log_url(run_id)\n\u001b[1;32m--> 942\u001b[0m \u001b[38;5;28mself\u001b[39m\u001b[38;5;241m.\u001b[39mstore\u001b[38;5;241m.\u001b[39mupdate_run_info(\n\u001b[0;32m    943\u001b[0m     run_id,\n\u001b[0;32m    944\u001b[0m     run_status\u001b[38;5;241m=\u001b[39mRunStatus\u001b[38;5;241m.\u001b[39mfrom_string(status),\n\u001b[0;32m    945\u001b[0m     end_time\u001b[38;5;241m=\u001b[39mend_time,\n\u001b[0;32m    946\u001b[0m     run_name\u001b[38;5;241m=\u001b[39m\u001b[38;5;28;01mNone\u001b[39;00m,\n\u001b[0;32m    947\u001b[0m )\n",
      "File \u001b[1;32mc:\\Users\\sonia.olaya\\AppData\\Local\\anaconda3\\Lib\\site-packages\\mlflow\\store\\tracking\\rest_store.py:180\u001b[0m, in \u001b[0;36mRestStore.update_run_info\u001b[1;34m(self, run_id, run_status, end_time, run_name)\u001b[0m\n\u001b[0;32m    170\u001b[0m \u001b[38;5;250m\u001b[39m\u001b[38;5;124;03m\"\"\"Updates the metadata of the specified run.\"\"\"\u001b[39;00m\n\u001b[0;32m    171\u001b[0m req_body \u001b[38;5;241m=\u001b[39m message_to_json(\n\u001b[0;32m    172\u001b[0m     UpdateRun(\n\u001b[0;32m    173\u001b[0m         run_uuid\u001b[38;5;241m=\u001b[39mrun_id,\n\u001b[1;32m   (...)\u001b[0m\n\u001b[0;32m    178\u001b[0m     )\n\u001b[0;32m    179\u001b[0m )\n\u001b[1;32m--> 180\u001b[0m response_proto \u001b[38;5;241m=\u001b[39m \u001b[38;5;28mself\u001b[39m\u001b[38;5;241m.\u001b[39m_call_endpoint(UpdateRun, req_body)\n\u001b[0;32m    181\u001b[0m \u001b[38;5;28;01mreturn\u001b[39;00m RunInfo\u001b[38;5;241m.\u001b[39mfrom_proto(response_proto\u001b[38;5;241m.\u001b[39mrun_info)\n",
      "File \u001b[1;32mc:\\Users\\sonia.olaya\\AppData\\Local\\anaconda3\\Lib\\site-packages\\mlflow\\store\\tracking\\rest_store.py:82\u001b[0m, in \u001b[0;36mRestStore._call_endpoint\u001b[1;34m(self, api, json_body, endpoint)\u001b[0m\n\u001b[0;32m     80\u001b[0m     endpoint, method \u001b[38;5;241m=\u001b[39m _METHOD_TO_INFO[api]\n\u001b[0;32m     81\u001b[0m response_proto \u001b[38;5;241m=\u001b[39m api\u001b[38;5;241m.\u001b[39mResponse()\n\u001b[1;32m---> 82\u001b[0m \u001b[38;5;28;01mreturn\u001b[39;00m call_endpoint(\u001b[38;5;28mself\u001b[39m\u001b[38;5;241m.\u001b[39mget_host_creds(), endpoint, method, json_body, response_proto)\n",
      "File \u001b[1;32mc:\\Users\\sonia.olaya\\AppData\\Local\\anaconda3\\Lib\\site-packages\\mlflow\\utils\\rest_utils.py:370\u001b[0m, in \u001b[0;36mcall_endpoint\u001b[1;34m(host_creds, endpoint, method, json_body, response_proto, extra_headers)\u001b[0m\n\u001b[0;32m    367\u001b[0m     call_kwargs[\u001b[38;5;124m\"\u001b[39m\u001b[38;5;124mjson\u001b[39m\u001b[38;5;124m\"\u001b[39m] \u001b[38;5;241m=\u001b[39m json_body\n\u001b[0;32m    368\u001b[0m     response \u001b[38;5;241m=\u001b[39m http_request(\u001b[38;5;241m*\u001b[39m\u001b[38;5;241m*\u001b[39mcall_kwargs)\n\u001b[1;32m--> 370\u001b[0m response \u001b[38;5;241m=\u001b[39m verify_rest_response(response, endpoint)\n\u001b[0;32m    371\u001b[0m response_to_parse \u001b[38;5;241m=\u001b[39m response\u001b[38;5;241m.\u001b[39mtext\n\u001b[0;32m    372\u001b[0m js_dict \u001b[38;5;241m=\u001b[39m json\u001b[38;5;241m.\u001b[39mloads(response_to_parse)\n",
      "File \u001b[1;32mc:\\Users\\sonia.olaya\\AppData\\Local\\anaconda3\\Lib\\site-packages\\mlflow\\utils\\rest_utils.py:240\u001b[0m, in \u001b[0;36mverify_rest_response\u001b[1;34m(response, endpoint)\u001b[0m\n\u001b[0;32m    238\u001b[0m \u001b[38;5;28;01mif\u001b[39;00m response\u001b[38;5;241m.\u001b[39mstatus_code \u001b[38;5;241m!=\u001b[39m \u001b[38;5;241m200\u001b[39m:\n\u001b[0;32m    239\u001b[0m     \u001b[38;5;28;01mif\u001b[39;00m _can_parse_as_json_object(response\u001b[38;5;241m.\u001b[39mtext):\n\u001b[1;32m--> 240\u001b[0m         \u001b[38;5;28;01mraise\u001b[39;00m RestException(json\u001b[38;5;241m.\u001b[39mloads(response\u001b[38;5;241m.\u001b[39mtext))\n\u001b[0;32m    241\u001b[0m     \u001b[38;5;28;01melse\u001b[39;00m:\n\u001b[0;32m    242\u001b[0m         base_msg \u001b[38;5;241m=\u001b[39m (\n\u001b[0;32m    243\u001b[0m             \u001b[38;5;124mf\u001b[39m\u001b[38;5;124m\"\u001b[39m\u001b[38;5;124mAPI request to endpoint \u001b[39m\u001b[38;5;132;01m{\u001b[39;00mendpoint\u001b[38;5;132;01m}\u001b[39;00m\u001b[38;5;124m \u001b[39m\u001b[38;5;124m\"\u001b[39m\n\u001b[0;32m    244\u001b[0m             \u001b[38;5;124mf\u001b[39m\u001b[38;5;124m\"\u001b[39m\u001b[38;5;124mfailed with error code \u001b[39m\u001b[38;5;132;01m{\u001b[39;00mresponse\u001b[38;5;241m.\u001b[39mstatus_code\u001b[38;5;132;01m}\u001b[39;00m\u001b[38;5;124m != 200\u001b[39m\u001b[38;5;124m\"\u001b[39m\n\u001b[0;32m    245\u001b[0m         )\n",
      "\u001b[1;31mRestException\u001b[0m: INVALID_PARAMETER_VALUE: The run e838516e6c834f4dae622102bf3b2f7f must be in 'active' lifecycle_stage."
     ]
    }
   ],
   "source": [
    "mlflow.end_run()"
   ]
  }
 ],
 "metadata": {
  "kernelspec": {
   "display_name": "base",
   "language": "python",
   "name": "python3"
  },
  "language_info": {
   "codemirror_mode": {
    "name": "ipython",
    "version": 3
   },
   "file_extension": ".py",
   "mimetype": "text/x-python",
   "name": "python",
   "nbconvert_exporter": "python",
   "pygments_lexer": "ipython3",
   "version": "3.12.4"
  }
 },
 "nbformat": 4,
 "nbformat_minor": 2
}
